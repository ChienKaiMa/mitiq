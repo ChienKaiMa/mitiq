{
 "cells": [
  {
   "cell_type": "code",
   "execution_count": 1,
   "metadata": {},
   "outputs": [],
   "source": [
    "import numpy as np\n",
    "import cirq\n",
    "from cirq import(\n",
    "    X,\n",
    "    Y,\n",
    "    Z,\n",
    "    CNOT,\n",
    "    rx,\n",
    "    rz,\n",
    "    Circuit, \n",
    "    ops,\n",
    ")\n",
    "from mitiq import Executor, Observable, PauliString, pec\n",
    "from mitiq.interface import mitiq_cirq\n",
    "from mitiq.pec.representations import learn_biased_noise_parameters, represent_operation_with_local_biased_noise"
   ]
  },
  {
   "cell_type": "code",
   "execution_count": 2,
   "metadata": {},
   "outputs": [],
   "source": [
    "a, b = cirq.LineQubit.range(2)\n",
    "circuit = cirq.Circuit(\n",
    "    rx(0.1).on(a),\n",
    "    rx(-0.72).on(b),\n",
    "    rz(0.4).on(a),\n",
    "    rz(0.2).on(b),\n",
    "    CNOT.on(a, b),\n",
    "    rx(-0.1).on(b),\n",
    "    rz(-0.23).on(a),\n",
    "    CNOT.on(b, a),\n",
    "    rx(-0.112).on(a),\n",
    "    )"
   ]
  },
  {
   "cell_type": "code",
   "execution_count": 3,
   "metadata": {},
   "outputs": [],
   "source": [
    "def simulator(circuit: cirq.Circuit) -> np.ndarray:\n",
    "    return mitiq_cirq.compute_density_matrix(circuit, noise_level=(0.0,))\n",
    "ideal_executor = Executor(simulator)"
   ]
  },
  {
   "cell_type": "markdown",
   "metadata": {},
   "source": [
    "Apply biased noise (Mixed Unitary) channel after each sequence (want this to be equivalent to our test case). \n",
    "Then use biased noise representations to \"perfectly\" mitigate the errors.\n",
    "Then vary the initial noise parameters slightly so some \"learning\" has to be performed. Calculate Choi, does overhead also make sense here?"
   ]
  },
  {
   "cell_type": "code",
   "execution_count": 4,
   "metadata": {},
   "outputs": [],
   "source": [
    "# Define biased noise channel\n",
    "from cirq import I, X, Y, Z, unitary\n",
    "epsilon = 0.1\n",
    "eta = 10\n",
    "a = 1 - epsilon\n",
    "b = epsilon * (3 * eta + 1) / (3 * (eta + 1))\n",
    "c = epsilon / (3 * (eta + 1))\n",
    "\n",
    "mix = [\n",
    "    (a, unitary(I)),\n",
    "    (b, unitary(Z)),\n",
    "    (c, unitary(X)),\n",
    "    (c, unitary(Y)),\n",
    "    ]\n",
    "\n",
    "    \n",
    "def noisy_executor(circ: Circuit) -> np.ndarray:\n",
    "    return mitiq_cirq.compute_density_matrix(circ, noise_model = ops.MixedUnitaryChannel(mix).on_each(a,b))"
   ]
  },
  {
   "cell_type": "code",
   "execution_count": 5,
   "metadata": {},
   "outputs": [],
   "source": [
    "obs = Observable(PauliString(\"Z\", support=(1,)))"
   ]
  },
  {
   "cell_type": "markdown",
   "metadata": {},
   "source": []
  },
  {
   "cell_type": "code",
   "execution_count": 6,
   "metadata": {},
   "outputs": [
    {
     "ename": "TypeError",
     "evalue": "unsupported operand type(s) for *: 'int' and 'function'",
     "output_type": "error",
     "traceback": [
      "\u001b[0;31m---------------------------------------------------------------------------\u001b[0m",
      "\u001b[0;31mTypeError\u001b[0m                                 Traceback (most recent call last)",
      "\u001b[1;32m/workspaces/mitiq/docs/source/examples/learning_test_notebook.ipynb Cell 8'\u001b[0m in \u001b[0;36m<cell line: 1>\u001b[0;34m()\u001b[0m\n\u001b[0;32m----> <a href='vscode-notebook-cell://dev-container%2B633a5c55736572735c6d697374795c446f63756d656e74735c4769744875625c6d69746971/workspaces/mitiq/docs/source/examples/learning_test_notebook.ipynb#ch0000009vscode-remote?line=0'>1</a>\u001b[0m epsilon, eta \u001b[39m=\u001b[39m learn_biased_noise_parameters(operation\u001b[39m=\u001b[39;49mrx, circuit\u001b[39m=\u001b[39;49mcircuit, ideal_executor\u001b[39m=\u001b[39;49mideal_executor,\n\u001b[1;32m      <a href='vscode-notebook-cell://dev-container%2B633a5c55736572735c6d697374795c446f63756d656e74735c4769744875625c6d69746971/workspaces/mitiq/docs/source/examples/learning_test_notebook.ipynb#ch0000009vscode-remote?line=1'>2</a>\u001b[0m        noisy_executor\u001b[39m=\u001b[39;49mnoisy_executor, num_training_circuits\u001b[39m=\u001b[39;49m\u001b[39m10\u001b[39;49m, epsilon0\u001b[39m=\u001b[39;49m\u001b[39m0.09\u001b[39;49m, eta0\u001b[39m=\u001b[39;49m\u001b[39m9.9\u001b[39;49m, observable\u001b[39m=\u001b[39;49mobs)\n",
      "File \u001b[0;32m/workspaces/mitiq/mitiq/pec/representations/learning.py:74\u001b[0m, in \u001b[0;36mlearn_biased_noise_parameters\u001b[0;34m(operation, circuit, ideal_executor, noisy_executor, num_training_circuits, epsilon0, eta0, observable)\u001b[0m\n\u001b[1;32m     <a href='file:///workspaces/mitiq/mitiq/pec/representations/learning.py?line=68'>69</a>\u001b[0m ideal_values \u001b[39m=\u001b[39m np\u001b[39m.\u001b[39marray(\n\u001b[1;32m     <a href='file:///workspaces/mitiq/mitiq/pec/representations/learning.py?line=69'>70</a>\u001b[0m     ideal_executor\u001b[39m.\u001b[39mevaluate(training_circuits, observable)\n\u001b[1;32m     <a href='file:///workspaces/mitiq/mitiq/pec/representations/learning.py?line=70'>71</a>\u001b[0m )\n\u001b[1;32m     <a href='file:///workspaces/mitiq/mitiq/pec/representations/learning.py?line=72'>73</a>\u001b[0m x0 \u001b[39m=\u001b[39m np\u001b[39m.\u001b[39marray([epsilon0, eta0])  \u001b[39m# initial parameter values for optimization\u001b[39;00m\n\u001b[0;32m---> <a href='file:///workspaces/mitiq/mitiq/pec/representations/learning.py?line=73'>74</a>\u001b[0m result \u001b[39m=\u001b[39m minimize(\n\u001b[1;32m     <a href='file:///workspaces/mitiq/mitiq/pec/representations/learning.py?line=74'>75</a>\u001b[0m     biased_noise_loss_function,\n\u001b[1;32m     <a href='file:///workspaces/mitiq/mitiq/pec/representations/learning.py?line=75'>76</a>\u001b[0m     x0,\n\u001b[1;32m     <a href='file:///workspaces/mitiq/mitiq/pec/representations/learning.py?line=76'>77</a>\u001b[0m     args\u001b[39m=\u001b[39;49m(\n\u001b[1;32m     <a href='file:///workspaces/mitiq/mitiq/pec/representations/learning.py?line=77'>78</a>\u001b[0m         operation,\n\u001b[1;32m     <a href='file:///workspaces/mitiq/mitiq/pec/representations/learning.py?line=78'>79</a>\u001b[0m         circuit,\n\u001b[1;32m     <a href='file:///workspaces/mitiq/mitiq/pec/representations/learning.py?line=79'>80</a>\u001b[0m         ideal_values,\n\u001b[1;32m     <a href='file:///workspaces/mitiq/mitiq/pec/representations/learning.py?line=80'>81</a>\u001b[0m         noisy_executor,\n\u001b[1;32m     <a href='file:///workspaces/mitiq/mitiq/pec/representations/learning.py?line=81'>82</a>\u001b[0m         num_training_circuits,\n\u001b[1;32m     <a href='file:///workspaces/mitiq/mitiq/pec/representations/learning.py?line=82'>83</a>\u001b[0m         observable,\n\u001b[1;32m     <a href='file:///workspaces/mitiq/mitiq/pec/representations/learning.py?line=83'>84</a>\u001b[0m     ),\n\u001b[1;32m     <a href='file:///workspaces/mitiq/mitiq/pec/representations/learning.py?line=84'>85</a>\u001b[0m     method\u001b[39m=\u001b[39;49m\u001b[39m\"\u001b[39;49m\u001b[39mBFGS\u001b[39;49m\u001b[39m\"\u001b[39;49m,\n\u001b[1;32m     <a href='file:///workspaces/mitiq/mitiq/pec/representations/learning.py?line=85'>86</a>\u001b[0m )\n\u001b[1;32m     <a href='file:///workspaces/mitiq/mitiq/pec/representations/learning.py?line=86'>87</a>\u001b[0m x_result \u001b[39m=\u001b[39m result\u001b[39m.\u001b[39mx\n\u001b[1;32m     <a href='file:///workspaces/mitiq/mitiq/pec/representations/learning.py?line=87'>88</a>\u001b[0m epsilon \u001b[39m=\u001b[39m x_result[\u001b[39m0\u001b[39m]\n",
      "File \u001b[0;32m/usr/local/lib/python3.8/site-packages/scipy/optimize/_minimize.py:618\u001b[0m, in \u001b[0;36mminimize\u001b[0;34m(fun, x0, args, method, jac, hess, hessp, bounds, constraints, tol, callback, options)\u001b[0m\n\u001b[1;32m    <a href='file:///usr/local/lib/python3.8/site-packages/scipy/optimize/_minimize.py?line=615'>616</a>\u001b[0m     \u001b[39mreturn\u001b[39;00m _minimize_cg(fun, x0, args, jac, callback, \u001b[39m*\u001b[39m\u001b[39m*\u001b[39moptions)\n\u001b[1;32m    <a href='file:///usr/local/lib/python3.8/site-packages/scipy/optimize/_minimize.py?line=616'>617</a>\u001b[0m \u001b[39melif\u001b[39;00m meth \u001b[39m==\u001b[39m \u001b[39m'\u001b[39m\u001b[39mbfgs\u001b[39m\u001b[39m'\u001b[39m:\n\u001b[0;32m--> <a href='file:///usr/local/lib/python3.8/site-packages/scipy/optimize/_minimize.py?line=617'>618</a>\u001b[0m     \u001b[39mreturn\u001b[39;00m _minimize_bfgs(fun, x0, args, jac, callback, \u001b[39m*\u001b[39;49m\u001b[39m*\u001b[39;49moptions)\n\u001b[1;32m    <a href='file:///usr/local/lib/python3.8/site-packages/scipy/optimize/_minimize.py?line=618'>619</a>\u001b[0m \u001b[39melif\u001b[39;00m meth \u001b[39m==\u001b[39m \u001b[39m'\u001b[39m\u001b[39mnewton-cg\u001b[39m\u001b[39m'\u001b[39m:\n\u001b[1;32m    <a href='file:///usr/local/lib/python3.8/site-packages/scipy/optimize/_minimize.py?line=619'>620</a>\u001b[0m     \u001b[39mreturn\u001b[39;00m _minimize_newtoncg(fun, x0, args, jac, hess, hessp, callback,\n\u001b[1;32m    <a href='file:///usr/local/lib/python3.8/site-packages/scipy/optimize/_minimize.py?line=620'>621</a>\u001b[0m                               \u001b[39m*\u001b[39m\u001b[39m*\u001b[39moptions)\n",
      "File \u001b[0;32m/usr/local/lib/python3.8/site-packages/scipy/optimize/optimize.py:1201\u001b[0m, in \u001b[0;36m_minimize_bfgs\u001b[0;34m(fun, x0, args, jac, callback, gtol, norm, eps, maxiter, disp, return_all, finite_diff_rel_step, **unknown_options)\u001b[0m\n\u001b[1;32m   <a href='file:///usr/local/lib/python3.8/site-packages/scipy/optimize/optimize.py?line=1197'>1198</a>\u001b[0m \u001b[39mif\u001b[39;00m maxiter \u001b[39mis\u001b[39;00m \u001b[39mNone\u001b[39;00m:\n\u001b[1;32m   <a href='file:///usr/local/lib/python3.8/site-packages/scipy/optimize/optimize.py?line=1198'>1199</a>\u001b[0m     maxiter \u001b[39m=\u001b[39m \u001b[39mlen\u001b[39m(x0) \u001b[39m*\u001b[39m \u001b[39m200\u001b[39m\n\u001b[0;32m-> <a href='file:///usr/local/lib/python3.8/site-packages/scipy/optimize/optimize.py?line=1200'>1201</a>\u001b[0m sf \u001b[39m=\u001b[39m _prepare_scalar_function(fun, x0, jac, args\u001b[39m=\u001b[39;49margs, epsilon\u001b[39m=\u001b[39;49meps,\n\u001b[1;32m   <a href='file:///usr/local/lib/python3.8/site-packages/scipy/optimize/optimize.py?line=1201'>1202</a>\u001b[0m                               finite_diff_rel_step\u001b[39m=\u001b[39;49mfinite_diff_rel_step)\n\u001b[1;32m   <a href='file:///usr/local/lib/python3.8/site-packages/scipy/optimize/optimize.py?line=1203'>1204</a>\u001b[0m f \u001b[39m=\u001b[39m sf\u001b[39m.\u001b[39mfun\n\u001b[1;32m   <a href='file:///usr/local/lib/python3.8/site-packages/scipy/optimize/optimize.py?line=1204'>1205</a>\u001b[0m myfprime \u001b[39m=\u001b[39m sf\u001b[39m.\u001b[39mgrad\n",
      "File \u001b[0;32m/usr/local/lib/python3.8/site-packages/scipy/optimize/optimize.py:261\u001b[0m, in \u001b[0;36m_prepare_scalar_function\u001b[0;34m(fun, x0, jac, args, bounds, epsilon, finite_diff_rel_step, hess)\u001b[0m\n\u001b[1;32m    <a href='file:///usr/local/lib/python3.8/site-packages/scipy/optimize/optimize.py?line=256'>257</a>\u001b[0m     bounds \u001b[39m=\u001b[39m (\u001b[39m-\u001b[39mnp\u001b[39m.\u001b[39minf, np\u001b[39m.\u001b[39minf)\n\u001b[1;32m    <a href='file:///usr/local/lib/python3.8/site-packages/scipy/optimize/optimize.py?line=258'>259</a>\u001b[0m \u001b[39m# ScalarFunction caches. Reuse of fun(x) during grad\u001b[39;00m\n\u001b[1;32m    <a href='file:///usr/local/lib/python3.8/site-packages/scipy/optimize/optimize.py?line=259'>260</a>\u001b[0m \u001b[39m# calculation reduces overall function evaluations.\u001b[39;00m\n\u001b[0;32m--> <a href='file:///usr/local/lib/python3.8/site-packages/scipy/optimize/optimize.py?line=260'>261</a>\u001b[0m sf \u001b[39m=\u001b[39m ScalarFunction(fun, x0, args, grad, hess,\n\u001b[1;32m    <a href='file:///usr/local/lib/python3.8/site-packages/scipy/optimize/optimize.py?line=261'>262</a>\u001b[0m                     finite_diff_rel_step, bounds, epsilon\u001b[39m=\u001b[39;49mepsilon)\n\u001b[1;32m    <a href='file:///usr/local/lib/python3.8/site-packages/scipy/optimize/optimize.py?line=263'>264</a>\u001b[0m \u001b[39mreturn\u001b[39;00m sf\n",
      "File \u001b[0;32m/usr/local/lib/python3.8/site-packages/scipy/optimize/_differentiable_functions.py:140\u001b[0m, in \u001b[0;36mScalarFunction.__init__\u001b[0;34m(self, fun, x0, args, grad, hess, finite_diff_rel_step, finite_diff_bounds, epsilon)\u001b[0m\n\u001b[1;32m    <a href='file:///usr/local/lib/python3.8/site-packages/scipy/optimize/_differentiable_functions.py?line=136'>137</a>\u001b[0m     \u001b[39mself\u001b[39m\u001b[39m.\u001b[39mf \u001b[39m=\u001b[39m fun_wrapped(\u001b[39mself\u001b[39m\u001b[39m.\u001b[39mx)\n\u001b[1;32m    <a href='file:///usr/local/lib/python3.8/site-packages/scipy/optimize/_differentiable_functions.py?line=138'>139</a>\u001b[0m \u001b[39mself\u001b[39m\u001b[39m.\u001b[39m_update_fun_impl \u001b[39m=\u001b[39m update_fun\n\u001b[0;32m--> <a href='file:///usr/local/lib/python3.8/site-packages/scipy/optimize/_differentiable_functions.py?line=139'>140</a>\u001b[0m \u001b[39mself\u001b[39;49m\u001b[39m.\u001b[39;49m_update_fun()\n\u001b[1;32m    <a href='file:///usr/local/lib/python3.8/site-packages/scipy/optimize/_differentiable_functions.py?line=141'>142</a>\u001b[0m \u001b[39m# Gradient evaluation\u001b[39;00m\n\u001b[1;32m    <a href='file:///usr/local/lib/python3.8/site-packages/scipy/optimize/_differentiable_functions.py?line=142'>143</a>\u001b[0m \u001b[39mif\u001b[39;00m callable(grad):\n",
      "File \u001b[0;32m/usr/local/lib/python3.8/site-packages/scipy/optimize/_differentiable_functions.py:233\u001b[0m, in \u001b[0;36mScalarFunction._update_fun\u001b[0;34m(self)\u001b[0m\n\u001b[1;32m    <a href='file:///usr/local/lib/python3.8/site-packages/scipy/optimize/_differentiable_functions.py?line=230'>231</a>\u001b[0m \u001b[39mdef\u001b[39;00m \u001b[39m_update_fun\u001b[39m(\u001b[39mself\u001b[39m):\n\u001b[1;32m    <a href='file:///usr/local/lib/python3.8/site-packages/scipy/optimize/_differentiable_functions.py?line=231'>232</a>\u001b[0m     \u001b[39mif\u001b[39;00m \u001b[39mnot\u001b[39;00m \u001b[39mself\u001b[39m\u001b[39m.\u001b[39mf_updated:\n\u001b[0;32m--> <a href='file:///usr/local/lib/python3.8/site-packages/scipy/optimize/_differentiable_functions.py?line=232'>233</a>\u001b[0m         \u001b[39mself\u001b[39;49m\u001b[39m.\u001b[39;49m_update_fun_impl()\n\u001b[1;32m    <a href='file:///usr/local/lib/python3.8/site-packages/scipy/optimize/_differentiable_functions.py?line=233'>234</a>\u001b[0m         \u001b[39mself\u001b[39m\u001b[39m.\u001b[39mf_updated \u001b[39m=\u001b[39m \u001b[39mTrue\u001b[39;00m\n",
      "File \u001b[0;32m/usr/local/lib/python3.8/site-packages/scipy/optimize/_differentiable_functions.py:137\u001b[0m, in \u001b[0;36mScalarFunction.__init__.<locals>.update_fun\u001b[0;34m()\u001b[0m\n\u001b[1;32m    <a href='file:///usr/local/lib/python3.8/site-packages/scipy/optimize/_differentiable_functions.py?line=135'>136</a>\u001b[0m \u001b[39mdef\u001b[39;00m \u001b[39mupdate_fun\u001b[39m():\n\u001b[0;32m--> <a href='file:///usr/local/lib/python3.8/site-packages/scipy/optimize/_differentiable_functions.py?line=136'>137</a>\u001b[0m     \u001b[39mself\u001b[39m\u001b[39m.\u001b[39mf \u001b[39m=\u001b[39m fun_wrapped(\u001b[39mself\u001b[39;49m\u001b[39m.\u001b[39;49mx)\n",
      "File \u001b[0;32m/usr/local/lib/python3.8/site-packages/scipy/optimize/_differentiable_functions.py:134\u001b[0m, in \u001b[0;36mScalarFunction.__init__.<locals>.fun_wrapped\u001b[0;34m(x)\u001b[0m\n\u001b[1;32m    <a href='file:///usr/local/lib/python3.8/site-packages/scipy/optimize/_differentiable_functions.py?line=129'>130</a>\u001b[0m \u001b[39mself\u001b[39m\u001b[39m.\u001b[39mnfev \u001b[39m+\u001b[39m\u001b[39m=\u001b[39m \u001b[39m1\u001b[39m\n\u001b[1;32m    <a href='file:///usr/local/lib/python3.8/site-packages/scipy/optimize/_differentiable_functions.py?line=130'>131</a>\u001b[0m \u001b[39m# Send a copy because the user may overwrite it.\u001b[39;00m\n\u001b[1;32m    <a href='file:///usr/local/lib/python3.8/site-packages/scipy/optimize/_differentiable_functions.py?line=131'>132</a>\u001b[0m \u001b[39m# Overwriting results in undefined behaviour because\u001b[39;00m\n\u001b[1;32m    <a href='file:///usr/local/lib/python3.8/site-packages/scipy/optimize/_differentiable_functions.py?line=132'>133</a>\u001b[0m \u001b[39m# fun(self.x) will change self.x, with the two no longer linked.\u001b[39;00m\n\u001b[0;32m--> <a href='file:///usr/local/lib/python3.8/site-packages/scipy/optimize/_differentiable_functions.py?line=133'>134</a>\u001b[0m \u001b[39mreturn\u001b[39;00m fun(np\u001b[39m.\u001b[39;49mcopy(x), \u001b[39m*\u001b[39;49margs)\n",
      "File \u001b[0;32m/workspaces/mitiq/mitiq/pec/representations/learning.py:120\u001b[0m, in \u001b[0;36mbiased_noise_loss_function\u001b[0;34m(epsilon, eta, operation, circuit, ideal_values, noisy_executor, num_training_circuits, observable)\u001b[0m\n\u001b[1;32m     <a href='file:///workspaces/mitiq/mitiq/pec/representations/learning.py?line=93'>94</a>\u001b[0m \u001b[39mdef\u001b[39;00m \u001b[39mbiased_noise_loss_function\u001b[39m(\n\u001b[1;32m     <a href='file:///workspaces/mitiq/mitiq/pec/representations/learning.py?line=94'>95</a>\u001b[0m     epsilon: \u001b[39mfloat\u001b[39m,\n\u001b[1;32m     <a href='file:///workspaces/mitiq/mitiq/pec/representations/learning.py?line=95'>96</a>\u001b[0m     eta: \u001b[39mfloat\u001b[39m,\n\u001b[0;32m   (...)\u001b[0m\n\u001b[1;32m    <a href='file:///workspaces/mitiq/mitiq/pec/representations/learning.py?line=101'>102</a>\u001b[0m     observable: Optional[Observable] \u001b[39m=\u001b[39m \u001b[39mNone\u001b[39;00m,\n\u001b[1;32m    <a href='file:///workspaces/mitiq/mitiq/pec/representations/learning.py?line=102'>103</a>\u001b[0m ) \u001b[39m-\u001b[39m\u001b[39m>\u001b[39m \u001b[39mfloat\u001b[39m:\n\u001b[1;32m    <a href='file:///workspaces/mitiq/mitiq/pec/representations/learning.py?line=103'>104</a>\u001b[0m     \u001b[39mr\u001b[39m\u001b[39m\"\"\"Loss function for optimizing the quasiprobability representation using\u001b[39;00m\n\u001b[1;32m    <a href='file:///workspaces/mitiq/mitiq/pec/representations/learning.py?line=104'>105</a>\u001b[0m \u001b[39m    the method of least squares\u001b[39;00m\n\u001b[1;32m    <a href='file:///workspaces/mitiq/mitiq/pec/representations/learning.py?line=105'>106</a>\u001b[0m \n\u001b[0;32m   (...)\u001b[0m\n\u001b[1;32m    <a href='file:///workspaces/mitiq/mitiq/pec/representations/learning.py?line=116'>117</a>\u001b[0m \u001b[39m        the ideal value, over the training set\u001b[39;00m\n\u001b[1;32m    <a href='file:///workspaces/mitiq/mitiq/pec/representations/learning.py?line=117'>118</a>\u001b[0m \u001b[39m    \"\"\"\u001b[39;00m\n\u001b[1;32m    <a href='file:///workspaces/mitiq/mitiq/pec/representations/learning.py?line=118'>119</a>\u001b[0m     representations \u001b[39m=\u001b[39m [\n\u001b[0;32m--> <a href='file:///workspaces/mitiq/mitiq/pec/representations/learning.py?line=119'>120</a>\u001b[0m         represent_operation_with_local_biased_noise(\n\u001b[1;32m    <a href='file:///workspaces/mitiq/mitiq/pec/representations/learning.py?line=120'>121</a>\u001b[0m             operation,\n\u001b[1;32m    <a href='file:///workspaces/mitiq/mitiq/pec/representations/learning.py?line=121'>122</a>\u001b[0m             epsilon,\n\u001b[1;32m    <a href='file:///workspaces/mitiq/mitiq/pec/representations/learning.py?line=122'>123</a>\u001b[0m             eta,\n\u001b[1;32m    <a href='file:///workspaces/mitiq/mitiq/pec/representations/learning.py?line=123'>124</a>\u001b[0m         )\n\u001b[1;32m    <a href='file:///workspaces/mitiq/mitiq/pec/representations/learning.py?line=124'>125</a>\u001b[0m     ]\n\u001b[1;32m    <a href='file:///workspaces/mitiq/mitiq/pec/representations/learning.py?line=125'>126</a>\u001b[0m     mitigated \u001b[39m=\u001b[39m execute_with_pec(\n\u001b[1;32m    <a href='file:///workspaces/mitiq/mitiq/pec/representations/learning.py?line=126'>127</a>\u001b[0m         circuit\u001b[39m=\u001b[39mcircuit,\n\u001b[1;32m    <a href='file:///workspaces/mitiq/mitiq/pec/representations/learning.py?line=127'>128</a>\u001b[0m         observable\u001b[39m=\u001b[39mobservable,\n\u001b[1;32m    <a href='file:///workspaces/mitiq/mitiq/pec/representations/learning.py?line=128'>129</a>\u001b[0m         executor\u001b[39m=\u001b[39mnoisy_executor,\n\u001b[1;32m    <a href='file:///workspaces/mitiq/mitiq/pec/representations/learning.py?line=129'>130</a>\u001b[0m         representations\u001b[39m=\u001b[39mrepresentations,\n\u001b[1;32m    <a href='file:///workspaces/mitiq/mitiq/pec/representations/learning.py?line=130'>131</a>\u001b[0m     )\n\u001b[1;32m    <a href='file:///workspaces/mitiq/mitiq/pec/representations/learning.py?line=132'>133</a>\u001b[0m     \u001b[39mif\u001b[39;00m mitigated \u001b[39mis\u001b[39;00m \u001b[39mfloat\u001b[39m: \n",
      "File \u001b[0;32m/workspaces/mitiq/mitiq/pec/representations/biased_noise.py:94\u001b[0m, in \u001b[0;36mrepresent_operation_with_local_biased_noise\u001b[0;34m(ideal_operation, epsilon, eta)\u001b[0m\n\u001b[1;32m     <a href='file:///workspaces/mitiq/mitiq/pec/representations/biased_noise.py?line=91'>92</a>\u001b[0m \u001b[39m# Calculate coefficients in basis expansion in terms of eta and epsilon\u001b[39;00m\n\u001b[1;32m     <a href='file:///workspaces/mitiq/mitiq/pec/representations/biased_noise.py?line=92'>93</a>\u001b[0m a \u001b[39m=\u001b[39m \u001b[39m1\u001b[39m \u001b[39m-\u001b[39m epsilon\n\u001b[0;32m---> <a href='file:///workspaces/mitiq/mitiq/pec/representations/biased_noise.py?line=93'>94</a>\u001b[0m b \u001b[39m=\u001b[39m epsilon \u001b[39m*\u001b[39m (\u001b[39m3\u001b[39;49m \u001b[39m*\u001b[39;49m eta \u001b[39m+\u001b[39m \u001b[39m1\u001b[39m) \u001b[39m/\u001b[39m (\u001b[39m3\u001b[39m \u001b[39m*\u001b[39m (eta \u001b[39m+\u001b[39m \u001b[39m1\u001b[39m))\n\u001b[1;32m     <a href='file:///workspaces/mitiq/mitiq/pec/representations/biased_noise.py?line=94'>95</a>\u001b[0m c \u001b[39m=\u001b[39m epsilon \u001b[39m/\u001b[39m (\u001b[39m3\u001b[39m \u001b[39m*\u001b[39m (eta \u001b[39m+\u001b[39m \u001b[39m1\u001b[39m))\n\u001b[1;32m     <a href='file:///workspaces/mitiq/mitiq/pec/representations/biased_noise.py?line=95'>96</a>\u001b[0m alpha \u001b[39m=\u001b[39m (a\u001b[39m*\u001b[39m\u001b[39m*\u001b[39m\u001b[39m2\u001b[39m \u001b[39m+\u001b[39m a \u001b[39m*\u001b[39m b \u001b[39m-\u001b[39m \u001b[39m2\u001b[39m \u001b[39m*\u001b[39m c\u001b[39m*\u001b[39m\u001b[39m*\u001b[39m\u001b[39m2\u001b[39m) \u001b[39m/\u001b[39m (\n\u001b[1;32m     <a href='file:///workspaces/mitiq/mitiq/pec/representations/biased_noise.py?line=96'>97</a>\u001b[0m     a\u001b[39m*\u001b[39m\u001b[39m*\u001b[39m\u001b[39m3\u001b[39m\n\u001b[1;32m     <a href='file:///workspaces/mitiq/mitiq/pec/representations/biased_noise.py?line=97'>98</a>\u001b[0m     \u001b[39m+\u001b[39m a\u001b[39m*\u001b[39m\u001b[39m*\u001b[39m\u001b[39m2\u001b[39m \u001b[39m*\u001b[39m b\n\u001b[0;32m   (...)\u001b[0m\n\u001b[1;32m    <a href='file:///workspaces/mitiq/mitiq/pec/representations/biased_noise.py?line=101'>102</a>\u001b[0m     \u001b[39m+\u001b[39m \u001b[39m4\u001b[39m \u001b[39m*\u001b[39m b \u001b[39m*\u001b[39m c\u001b[39m*\u001b[39m\u001b[39m*\u001b[39m\u001b[39m2\u001b[39m\n\u001b[1;32m    <a href='file:///workspaces/mitiq/mitiq/pec/representations/biased_noise.py?line=102'>103</a>\u001b[0m )\n",
      "\u001b[0;31mTypeError\u001b[0m: unsupported operand type(s) for *: 'int' and 'function'"
     ]
    }
   ],
   "source": [
    "epsilon, eta = learn_biased_noise_parameters(operation=rx, circuit=circuit, ideal_executor=ideal_executor,\n",
    "       noisy_executor=noisy_executor, num_training_circuits=10, epsilon0=0.09, eta0=9.9, observable=obs)"
   ]
  },
  {
   "cell_type": "code",
   "execution_count": null,
   "metadata": {},
   "outputs": [],
   "source": [
    "representations = [ ]\n",
    "for operation in circuit:\n",
    "    representations.append(represent_operation_with_local_biased_noise(operation, circuit, ))"
   ]
  },
  {
   "cell_type": "code",
   "execution_count": null,
   "metadata": {},
   "outputs": [],
   "source": [
    "pec_value, pec_data = pec.execute_with_pec(\n",
    "    circuit=circuit,\n",
    "    observable=obs,\n",
    "    executor=noisy_executor,\n",
    "    representations=representations,\n",
    "    num_samples = 1000,\n",
    "    full_output=True,\n",
    "    random_state = np.random.RandomState(7)\n",
    ")"
   ]
  }
 ],
 "metadata": {
  "interpreter": {
   "hash": "949777d72b0d2535278d3dc13498b2535136f6dfe0678499012e853ee9abcab1"
  },
  "kernelspec": {
   "display_name": "Python 3.8.13 64-bit",
   "language": "python",
   "name": "python3"
  },
  "language_info": {
   "codemirror_mode": {
    "name": "ipython",
    "version": 3
   },
   "file_extension": ".py",
   "mimetype": "text/x-python",
   "name": "python",
   "nbconvert_exporter": "python",
   "pygments_lexer": "ipython3",
   "version": "3.8.13"
  },
  "orig_nbformat": 4
 },
 "nbformat": 4,
 "nbformat_minor": 2
}
