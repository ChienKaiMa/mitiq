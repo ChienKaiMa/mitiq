{
 "cells": [
  {
   "cell_type": "code",
   "execution_count": 9,
   "metadata": {},
   "outputs": [],
   "source": [
    "import numpy as np\n",
    "import cirq\n",
    "from cirq import(\n",
    "    X,\n",
    "    Y,\n",
    "    Z,\n",
    "    CNOT,\n",
    "    rx,\n",
    "    rz,\n",
    "    Circuit,\n",
    "    Gate,\n",
    "    ops,\n",
    ")\n",
    "from mitiq import Executor, Observable, PauliString, pec\n",
    "from mitiq.interface import mitiq_cirq\n",
    "from mitiq.pec.representations import learn_biased_noise_parameters, represent_operation_with_local_biased_noise"
   ]
  },
  {
   "cell_type": "code",
   "execution_count": 10,
   "metadata": {},
   "outputs": [],
   "source": [
    "a, b = cirq.LineQubit.range(2)\n",
    "circuit = cirq.Circuit(\n",
    "    rx(0.1).on(a),\n",
    "    rx(-0.72).on(b),\n",
    "    rz(0.4).on(a),\n",
    "    rz(0.2).on(b),\n",
    "    CNOT.on(a, b),\n",
    "    rx(-0.1).on(b),\n",
    "    rz(-0.23).on(a),\n",
    "    CNOT.on(b, a),\n",
    "    rx(-0.112).on(a),\n",
    "    )"
   ]
  },
  {
   "cell_type": "code",
   "execution_count": 11,
   "metadata": {},
   "outputs": [],
   "source": [
    "def simulator(circuit: cirq.Circuit) -> np.ndarray:\n",
    "    return mitiq_cirq.compute_density_matrix(circuit, noise_level=(0.0,))\n",
    "ideal_executor = Executor(simulator)"
   ]
  },
  {
   "cell_type": "markdown",
   "metadata": {},
   "source": [
    "Apply biased noise (Mixed Unitary) channel after each sequence (want this to be equivalent to our test case). \n",
    "Then use biased noise representations to \"perfectly\" mitigate the errors.\n",
    "Then vary the initial noise parameters slightly so some \"learning\" has to be performed. Calculate Choi, does overhead also make sense here?"
   ]
  },
  {
   "cell_type": "code",
   "execution_count": 12,
   "metadata": {},
   "outputs": [],
   "source": [
    "# Define biased noise channel\n",
    "from cirq import I, X, Y, Z, unitary\n",
    "    \n",
    "def simulate_noise(circ: Circuit, gate: Gate) -> np.ndarray:\n",
    "    epsilon = 0.1\n",
    "    eta = 10\n",
    "    a = 1 - epsilon\n",
    "    b = epsilon * (3 * eta + 1) / (3 * (eta + 1))\n",
    "    c = epsilon / (3 * (eta + 1))\n",
    "\n",
    "    mix = [\n",
    "        (a, unitary(I)),\n",
    "        (b, unitary(Z)),\n",
    "        (c, unitary(X)),\n",
    "        (c, unitary(Y)),\n",
    "    ]\n",
    "    op_rep = represent_operation_with_local_biased_noise(\n",
    "        Circuit(gate), epsilon, eta\n",
    "    )\n",
    "    for noisy_op, coeff in op_rep.basis_expansion.items():\n",
    "        implementable_circ = noisy_op.circuit()\n",
    "        # Apply noise after each sequence.\n",
    "        # NOTE: noise is not applied after each operation.\n",
    "        biased_op = ops.MixedUnitaryChannel(mix).on_each(*cirq.LineQubit.range(gate.num_qubits()))\n",
    "        implementable_circ.append(biased_op)\n",
    "    return mitiq_cirq.compute_density_matrix(circ, noise_level=(0.0,))\n",
    "    \n",
    "gate = rx\n",
    "noisy_executor = lambda circ: simulate_noise(circ, gate)"
   ]
  },
  {
   "cell_type": "code",
   "execution_count": 13,
   "metadata": {},
   "outputs": [],
   "source": [
    "obs = Observable(PauliString(\"Z\", support=(1,)))"
   ]
  },
  {
   "cell_type": "code",
   "execution_count": 18,
   "metadata": {},
   "outputs": [
    {
     "ename": "UnsupportedCircuitError",
     "evalue": "Circuit from module cirq.ops.common_gates is not supported.\n\nCircuit types supported by Mitiq are \n{'cirq': 'Circuit', 'pyquil': 'Program', 'qiskit': 'QuantumCircuit', 'braket': 'Circuit', 'pennylane': 'QuantumTape'}",
     "output_type": "error",
     "traceback": [
      "\u001b[0;31m---------------------------------------------------------------------------\u001b[0m",
      "\u001b[0;31mUnsupportedCircuitError\u001b[0m                   Traceback (most recent call last)",
      "\u001b[1;32m/workspaces/mitiq/docs/source/examples/learning_test_notebook.ipynb Cell 8'\u001b[0m in \u001b[0;36m<cell line: 2>\u001b[0;34m()\u001b[0m\n\u001b[1;32m      <a href='vscode-notebook-cell://dev-container%2B633a5c55736572735c6d697374795c446f63756d656e74735c4769744875625c6d69746971/workspaces/mitiq/docs/source/examples/learning_test_notebook.ipynb#ch0000007vscode-remote?line=0'>1</a>\u001b[0m operation \u001b[39m=\u001b[39m rx\n\u001b[0;32m----> <a href='vscode-notebook-cell://dev-container%2B633a5c55736572735c6d697374795c446f63756d656e74735c4769744875625c6d69746971/workspaces/mitiq/docs/source/examples/learning_test_notebook.ipynb#ch0000007vscode-remote?line=1'>2</a>\u001b[0m \u001b[39mprint\u001b[39m(convert_to_mitiq(operation))\n",
      "File \u001b[0;32m/workspaces/mitiq/mitiq/interface/conversions.py:83\u001b[0m, in \u001b[0;36mconvert_to_mitiq\u001b[0;34m(circuit)\u001b[0m\n\u001b[1;32m     <a href='file:///workspaces/mitiq/mitiq/interface/conversions.py?line=79'>80</a>\u001b[0m         \u001b[39mreturn\u001b[39;00m circ\n\u001b[1;32m     <a href='file:///workspaces/mitiq/mitiq/interface/conversions.py?line=81'>82</a>\u001b[0m \u001b[39melse\u001b[39;00m:\n\u001b[0;32m---> <a href='file:///workspaces/mitiq/mitiq/interface/conversions.py?line=82'>83</a>\u001b[0m     \u001b[39mraise\u001b[39;00m UnsupportedCircuitError(\n\u001b[1;32m     <a href='file:///workspaces/mitiq/mitiq/interface/conversions.py?line=83'>84</a>\u001b[0m         \u001b[39mf\u001b[39m\u001b[39m\"\u001b[39m\u001b[39mCircuit from module \u001b[39m\u001b[39m{\u001b[39;00mpackage\u001b[39m}\u001b[39;00m\u001b[39m is not supported.\u001b[39m\u001b[39m\\n\u001b[39;00m\u001b[39m\\n\u001b[39;00m\u001b[39m\"\u001b[39m\n\u001b[1;32m     <a href='file:///workspaces/mitiq/mitiq/interface/conversions.py?line=84'>85</a>\u001b[0m         \u001b[39mf\u001b[39m\u001b[39m\"\u001b[39m\u001b[39mCircuit types supported by Mitiq are \u001b[39m\u001b[39m\\n\u001b[39;00m\u001b[39m{\u001b[39;00mSUPPORTED_PROGRAM_TYPES\u001b[39m}\u001b[39;00m\u001b[39m\"\u001b[39m\n\u001b[1;32m     <a href='file:///workspaces/mitiq/mitiq/interface/conversions.py?line=85'>86</a>\u001b[0m     )\n\u001b[1;32m     <a href='file:///workspaces/mitiq/mitiq/interface/conversions.py?line=87'>88</a>\u001b[0m \u001b[39mtry\u001b[39;00m:\n\u001b[1;32m     <a href='file:///workspaces/mitiq/mitiq/interface/conversions.py?line=88'>89</a>\u001b[0m     mitiq_circuit \u001b[39m=\u001b[39m conversion_function(circuit)\n",
      "\u001b[0;31mUnsupportedCircuitError\u001b[0m: Circuit from module cirq.ops.common_gates is not supported.\n\nCircuit types supported by Mitiq are \n{'cirq': 'Circuit', 'pyquil': 'Program', 'qiskit': 'QuantumCircuit', 'braket': 'Circuit', 'pennylane': 'QuantumTape'}"
     ]
    }
   ],
   "source": [
    "\n",
    "epsilon, eta = learn_biased_noise_parameters(operation=cirq.Circuit(rx), circuit=circuit, ideal_executor=ideal_executor,\n",
    "        noisy_executor=noisy_executor, num_training_circuits=10, epsilon0=0.09, eta0=9.9, observable=obs)"
   ]
  },
  {
   "cell_type": "code",
   "execution_count": null,
   "metadata": {},
   "outputs": [],
   "source": [
    "representations = [ ]\n",
    "for operation in circuit:\n",
    "    representations.append(represent_operation_with_local_biased_noise(operation, circuit, ))"
   ]
  },
  {
   "cell_type": "code",
   "execution_count": null,
   "metadata": {},
   "outputs": [],
   "source": [
    "pec_value, pec_data = pec.execute_with_pec(\n",
    "    circuit=circuit,\n",
    "    observable=obs,\n",
    "    executor=noisy_executor,\n",
    "    representations=representations,\n",
    "    num_samples = 1000,\n",
    "    full_output=True,\n",
    "    random_state = np.random.RandomState(7)\n",
    ")"
   ]
  }
 ],
 "metadata": {
  "interpreter": {
   "hash": "949777d72b0d2535278d3dc13498b2535136f6dfe0678499012e853ee9abcab1"
  },
  "kernelspec": {
   "display_name": "Python 3.8.13 64-bit",
   "language": "python",
   "name": "python3"
  },
  "language_info": {
   "codemirror_mode": {
    "name": "ipython",
    "version": 3
   },
   "file_extension": ".py",
   "mimetype": "text/x-python",
   "name": "python",
   "nbconvert_exporter": "python",
   "pygments_lexer": "ipython3",
   "version": "3.8.13"
  },
  "orig_nbformat": 4
 },
 "nbformat": 4,
 "nbformat_minor": 2
}
