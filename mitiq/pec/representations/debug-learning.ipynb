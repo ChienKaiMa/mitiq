{
 "cells": [
  {
   "cell_type": "code",
   "execution_count": null,
   "metadata": {},
   "outputs": [],
   "source": [
    "import numpy as np\n",
    "from cirq import (\n",
    "    CNOT,\n",
    "    I,\n",
    "    X,\n",
    "    Y,\n",
    "    Z,\n",
    "    LineQubit,\n",
    "    Circuit,\n",
    "    ops,\n",
    "    unitary,\n",
    ")\n",
    "from mitiq import Executor, Observable, PauliString\n",
    "from mitiq.interface.mitiq_cirq import compute_density_matrix\n",
    "from mitiq.cdr._testing import random_x_z_cnot_circuit\n",
    "from mitiq.pec.representations.learning import learn_biased_noise_parameters"
   ]
  },
  {
   "cell_type": "markdown",
   "metadata": {},
   "source": [
    "Test with randomly generated circuit, compiled into (X, Z, CNOT) for `cdr.generate_training_circuits`"
   ]
  },
  {
   "cell_type": "code",
   "execution_count": null,
   "metadata": {},
   "outputs": [],
   "source": [
    "circuit = random_x_z_cnot_circuit(\n",
    "    LineQubit.range(3), n_moments=5, random_state=1\n",
    ")\n",
    "print(circuit)"
   ]
  },
  {
   "cell_type": "markdown",
   "metadata": {},
   "source": [
    "Test with some example parameters (small offset to avoid long execution time)"
   ]
  },
  {
   "cell_type": "code",
   "execution_count": null,
   "metadata": {},
   "outputs": [],
   "source": [
    "epsilon = 0.7\n",
    "eta = 1000\n",
    "gate = CNOT\n",
    "offset = -0.1\n",
    "observable = Observable(PauliString(\"XZ\"), PauliString(\"YY\"))\n",
    "\n",
    "# Define biased noise channel\n",
    "a = 1 - epsilon\n",
    "b = epsilon * (3 * eta + 1) / (3 * (eta + 1))\n",
    "c = epsilon / (3 * (eta + 1))\n",
    "\n",
    "mix = [\n",
    "    (a, unitary(I)),\n",
    "    (b, unitary(Z)),\n",
    "    (c, unitary(X)),\n",
    "    (c, unitary(Y)),\n",
    "]\n",
    "\n",
    "def ideal_executor(circ: Circuit) -> np.ndarray:\n",
    "    return compute_density_matrix(circ, noise_level=(0.0,))\n",
    "\n",
    "def noisy_executor(circ: Circuit) -> np.ndarray:\n",
    "    qreg = LineQubit.range(gate.num_qubits())\n",
    "    return compute_density_matrix(\n",
    "        circ, noise_model=ops.MixedUnitaryChannel(mix).on_each(*qreg)\n",
    "    )"
   ]
  },
  {
   "cell_type": "code",
   "execution_count": null,
   "metadata": {},
   "outputs": [],
   "source": [
    "[epsilon_opt, eta_opt] = learn_biased_noise_parameters(\n",
    "    operation=gate,\n",
    "    circuit=circuit,\n",
    "    ideal_executor=Executor(ideal_executor),\n",
    "    noisy_executor=Executor(noisy_executor),\n",
    "    num_training_circuits=10,\n",
    "    epsilon0=(1 + offset) * epsilon,\n",
    "    eta0=(1 + offset) * eta,\n",
    "    observable=observable\n",
    ")\n",
    "\n",
    "print(epsilon-epsilon_opt)\n",
    "print(eta-eta_opt)"
   ]
  }
 ],
 "metadata": {
  "interpreter": {
   "hash": "949777d72b0d2535278d3dc13498b2535136f6dfe0678499012e853ee9abcab1"
  },
  "kernelspec": {
   "display_name": "Python 3.8.13 64-bit",
   "language": "python",
   "name": "python3"
  },
  "language_info": {
   "codemirror_mode": {
    "name": "ipython",
    "version": 3
   },
   "file_extension": ".py",
   "mimetype": "text/x-python",
   "name": "python",
   "nbconvert_exporter": "python",
   "pygments_lexer": "ipython3",
   "version": "3.8.13"
  },
  "orig_nbformat": 4
 },
 "nbformat": 4,
 "nbformat_minor": 2
}
